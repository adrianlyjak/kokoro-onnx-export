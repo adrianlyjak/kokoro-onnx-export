{
 "cells": [
  {
   "cell_type": "code",
   "execution_count": null,
   "metadata": {},
   "outputs": [],
   "source": [
    "import torch\n",
    "import torch.nn.functional as F\n",
    "import onnx\n",
    "\n",
    "\n",
    "@torch.jit.script\n",
    "def if_conv_flatten(\n",
    "    x: torch.Tensor, w: torch.Tensor, b: torch.Tensor, condition: bool\n",
    ") -> torch.Tensor:\n",
    "    \"\"\"\n",
    "    Applies a conv2d, then uses an If node:\n",
    "      if condition: Flatten\n",
    "      else: clone (i.e. identity)\n",
    "    \"\"\"\n",
    "    x = F.conv2d(x, w, b, stride=1, padding=1)\n",
    "    if condition:\n",
    "        # 'then' branch\n",
    "        return x.view(x.size(0), x.size(1), -1)  # flatten\n",
    "    else:\n",
    "        # 'else' branch\n",
    "        return x.clone()\n",
    "\n",
    "\n",
    "# 1) Generate some dummy data\n",
    "x = torch.randn(2, 1, 5, 5, dtype=torch.float32)\n",
    "w = torch.randn(1, 1, 3, 3, dtype=torch.float32)\n",
    "b = torch.randn(1, dtype=torch.float32)\n",
    "\n",
    "# 2) Export to ONNX.  This definitely yields an If node\n",
    "model_path = \"model_if.onnx\"\n",
    "torch.onnx.export(\n",
    "    if_conv_flatten,\n",
    "    (x, w, b, True),  # Pass a bool that's not recognized as a constant by JIT\n",
    "    str(model_path),\n",
    "    opset_version=14,  # or 20, depending on your version\n",
    "    input_names=[\"x\", \"w\", \"b\", \"condition\"],\n",
    "    output_names=[\"output\"],\n",
    "    dynamic_axes={\"x\": {0: \"batch\"}, \"output\": {0: \"batch\"}},\n",
    "    do_constant_folding=False,\n",
    ")\n",
    "onnx_model = onnx.load(str(model_path))"
   ]
  }
 ],
 "metadata": {
  "kernelspec": {
   "display_name": ".venv",
   "language": "python",
   "name": "python3"
  },
  "language_info": {
   "name": "python",
   "version": "3.12.8"
  }
 },
 "nbformat": 4,
 "nbformat_minor": 2
}
